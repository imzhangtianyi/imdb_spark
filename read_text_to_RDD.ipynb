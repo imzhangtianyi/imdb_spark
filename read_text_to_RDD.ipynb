{
 "cells": [
  {
   "cell_type": "code",
   "execution_count": 1,
   "metadata": {},
   "outputs": [],
   "source": [
    "import pyspark"
   ]
  },
  {
   "cell_type": "code",
   "execution_count": 50,
   "metadata": {},
   "outputs": [],
   "source": [
    "from pyspark.sql import functions as fn"
   ]
  },
  {
   "cell_type": "code",
   "execution_count": null,
   "metadata": {},
   "outputs": [],
   "source": [
    "rdd_pos = sc.wholeTextFiles(\"./aclImdb/train/pos\") \n",
    "rdd_neg = sc.wholeTextFiles(\"./aclImdb/train/neg\")\n",
    "df_pos = rdd_pos.toDF('Path','Review')\n",
    "df_neg = rdd_neg.toDF('Path','Review')"
   ]
  },
  {
   "cell_type": "code",
   "execution_count": 37,
   "metadata": {},
   "outputs": [
    {
     "name": "stdout",
     "output_type": "stream",
     "text": [
      "+--------------------+--------------------+\n",
      "|                  _1|                  _2|\n",
      "+--------------------+--------------------+\n",
      "|file:/home/tianyi...|A lot of the prob...|\n",
      "|file:/home/tianyi...|Eddie Murphy real...|\n",
      "|file:/home/tianyi...|It was by acciden...|\n",
      "|file:/home/tianyi...|I thought this mo...|\n",
      "|file:/home/tianyi...|this is an entert...|\n",
      "+--------------------+--------------------+\n",
      "only showing top 5 rows\n",
      "\n"
     ]
    }
   ],
   "source": [
    "df_pos.show(5)"
   ]
  },
  {
   "cell_type": "code",
   "execution_count": 61,
   "metadata": {},
   "outputs": [],
   "source": [
    "import os"
   ]
  },
  {
   "cell_type": "code",
   "execution_count": 63,
   "metadata": {},
   "outputs": [],
   "source": [
    "cwd = os.getcwd()"
   ]
  },
  {
   "cell_type": "code",
   "execution_count": 44,
   "metadata": {},
   "outputs": [],
   "source": [
    "df_1 = df_pos.select('*').limit(10).toDF('Path', 'Review')"
   ]
  },
  {
   "cell_type": "code",
   "execution_count": 65,
   "metadata": {},
   "outputs": [
    {
     "name": "stdout",
     "output_type": "stream",
     "text": [
      "+--------------------+----------------+\n",
      "|                Path|              id|\n",
      "+--------------------+----------------+\n",
      "|file:/home/tianyi...|  pos_5525_8.txt|\n",
      "|file:/home/tianyi...| pos_2923_10.txt|\n",
      "|file:/home/tianyi...|pos_10450_10.txt|\n",
      "|file:/home/tianyi...|pos_10836_10.txt|\n",
      "|file:/home/tianyi...|  pos_8180_8.txt|\n",
      "|file:/home/tianyi...| pos_7121_10.txt|\n",
      "|file:/home/tianyi...|  pos_8570_7.txt|\n",
      "|file:/home/tianyi...| pos_8029_10.txt|\n",
      "|file:/home/tianyi...|  pos_5213_8.txt|\n",
      "|file:/home/tianyi...|  pos_8413_8.txt|\n",
      "+--------------------+----------------+\n",
      "\n"
     ]
    }
   ],
   "source": [
    "df_1.select('Path', fn.regexp_replace('Path','file:'+cwd+'/aclImdb/train/pos/', 'pos_').\\\n",
    "            alias('id')).show()"
   ]
  },
  {
   "cell_type": "code",
   "execution_count": 99,
   "metadata": {},
   "outputs": [
    {
     "name": "stdout",
     "output_type": "stream",
     "text": [
      "+-----------+--------------------+\n",
      "|         id|              review|\n",
      "+-----------+--------------------+\n",
      "| pos/5525_8|A lot of the prob...|\n",
      "| pos/2923_1|Eddie Murphy real...|\n",
      "|pos/10450_1|It was by acciden...|\n",
      "|pos/10836_1|I thought this mo...|\n",
      "| pos/8180_8|this is an entert...|\n",
      "| pos/7121_1|I hadn't seen thi...|\n",
      "| pos/8570_7|I noticed at once...|\n",
      "| pos/8029_1|I am curious of w...|\n",
      "| pos/5213_8|This is the first...|\n",
      "| pos/8413_8|A stupid young ma...|\n",
      "+-----------+--------------------+\n",
      "\n"
     ]
    }
   ],
   "source": [
    "df_1.select(fn.regexp_extract('Path', r'(pos/\\d+_\\d)', 1).\\\n",
    "            alias('id'), 'review').show()"
   ]
  },
  {
   "cell_type": "code",
   "execution_count": 58,
   "metadata": {},
   "outputs": [
    {
     "name": "stdout",
     "output_type": "stream",
     "text": [
      "+---------------------------------------------------------+------------------------------------------------------------------------------------------------------------------------------------------------------------------------------------------------------------------------------------------------------------------------------------------------------------------------------------------------------------------------------------------------------------------------------------------------------------------------------------------------------------------------------------------------------------------------------------------------------------------------------------------------------------------------------------------------------------------------------------------------------------------------------------------------------------------------------------+\n",
      "|Path                                                     |Review                                                                                                                                                                                                                                                                                                                                                                                                                                                                                                                                                                                                                                                                                                                                                                                                                              |\n",
      "+---------------------------------------------------------+------------------------------------------------------------------------------------------------------------------------------------------------------------------------------------------------------------------------------------------------------------------------------------------------------------------------------------------------------------------------------------------------------------------------------------------------------------------------------------------------------------------------------------------------------------------------------------------------------------------------------------------------------------------------------------------------------------------------------------------------------------------------------------------------------------------------------------+\n",
      "|file:/home/tianyi/spark/imdb/aclImdb/train/pos/5525_8.txt|A lot of the problem many people have with this movie is that they seem to think that the story should have been more entertaining (ignoring it is based on a true story) or ranting against a film that glorifies Che (which it really doesn't). This film is very close to Jon Anderson's definitive bio on Che and gets the story right. Soderburgh does an excellent job of setting the mood for the unraveling debacle that was Che's Bolivian adventure. You really get the impression of the total timidity and bewilderment of the Bolvian peasant to Che's revolutionary ideas or of the difficulties that his men faced with hunger and the terrain. Sorry to bore the attention challenged movie fan out there but that was how it happened. So don't go into this movie expecting a Rambo shoot em up, its a true story!|\n",
      "+---------------------------------------------------------+------------------------------------------------------------------------------------------------------------------------------------------------------------------------------------------------------------------------------------------------------------------------------------------------------------------------------------------------------------------------------------------------------------------------------------------------------------------------------------------------------------------------------------------------------------------------------------------------------------------------------------------------------------------------------------------------------------------------------------------------------------------------------------------------------------------------------------+\n",
      "only showing top 1 row\n",
      "\n"
     ]
    }
   ],
   "source": [
    "df_1.show(1, truncate=False)"
   ]
  },
  {
   "cell_type": "code",
   "execution_count": 15,
   "metadata": {},
   "outputs": [],
   "source": [
    "conf = pyspark.SparkConf().setAppName('read_textRDD').setMaster('local[*]')\n",
    "sc = pyspark.SparkContext(conf=conf)"
   ]
  },
  {
   "cell_type": "code",
   "execution_count": 24,
   "metadata": {},
   "outputs": [],
   "source": [
    "w = sc.wholeTextFiles(\"./aclImdb/train/pos\") "
   ]
  },
  {
   "cell_type": "code",
   "execution_count": 29,
   "metadata": {},
   "outputs": [],
   "source": [
    "from pyspark.sql import SQLContext\n",
    "sqlContext = SQLContext(sc)"
   ]
  },
  {
   "cell_type": "code",
   "execution_count": 33,
   "metadata": {},
   "outputs": [],
   "source": [
    "df = w.toDF()"
   ]
  },
  {
   "cell_type": "code",
   "execution_count": 35,
   "metadata": {},
   "outputs": [
    {
     "name": "stdout",
     "output_type": "stream",
     "text": [
      "+--------------------+--------------------+\n",
      "|                  _1|                  _2|\n",
      "+--------------------+--------------------+\n",
      "|file:/home/tianyi...|A lot of the prob...|\n",
      "|file:/home/tianyi...|Eddie Murphy real...|\n",
      "|file:/home/tianyi...|It was by acciden...|\n",
      "|file:/home/tianyi...|I thought this mo...|\n",
      "|file:/home/tianyi...|this is an entert...|\n",
      "|file:/home/tianyi...|I hadn't seen thi...|\n",
      "|file:/home/tianyi...|I noticed at once...|\n",
      "|file:/home/tianyi...|I am curious of w...|\n",
      "|file:/home/tianyi...|This is the first...|\n",
      "|file:/home/tianyi...|A stupid young ma...|\n",
      "|file:/home/tianyi...|\"Scoop\" is easily...|\n",
      "|file:/home/tianyi...|There's no shorta...|\n",
      "|file:/home/tianyi...|This film is outs...|\n",
      "|file:/home/tianyi...|First of all this...|\n",
      "|file:/home/tianyi...|Gandhi My Father ...|\n",
      "|file:/home/tianyi...|I believe I recei...|\n",
      "|file:/home/tianyi...|Following the bri...|\n",
      "|file:/home/tianyi...|A great addition ...|\n",
      "|file:/home/tianyi...|In what is arguab...|\n",
      "|file:/home/tianyi...|Financially strap...|\n",
      "+--------------------+--------------------+\n",
      "only showing top 20 rows\n",
      "\n"
     ]
    }
   ],
   "source": [
    "df.show()"
   ]
  },
  {
   "cell_type": "code",
   "execution_count": null,
   "metadata": {},
   "outputs": [],
   "source": []
  }
 ],
 "metadata": {
  "kernelspec": {
   "display_name": "Python 3",
   "language": "python",
   "name": "python3"
  },
  "language_info": {
   "codemirror_mode": {
    "name": "ipython",
    "version": 3
   },
   "file_extension": ".py",
   "mimetype": "text/x-python",
   "name": "python",
   "nbconvert_exporter": "python",
   "pygments_lexer": "ipython3",
   "version": "3.7.1"
  }
 },
 "nbformat": 4,
 "nbformat_minor": 2
}
