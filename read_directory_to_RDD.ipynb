{
 "cells": [
  {
   "cell_type": "markdown",
   "metadata": {},
   "source": [
    "# Read all text from the pos and neg directory"
   ]
  },
  {
   "cell_type": "code",
   "execution_count": 1,
   "metadata": {},
   "outputs": [],
   "source": [
    "import pyspark\n",
    "from pyspark.sql import functions as fn\n",
    "from pyspark.sql import SQLContext\n",
    "\n",
    "\n",
    "conf = pyspark.SparkConf().setAppName('read_textRDD').setMaster('local[*]')\n",
    "sc = pyspark.SparkContext(conf=conf)\n",
    "sqlContext = SQLContext(sc)\n",
    "\n",
    "rdd_pos = sc.wholeTextFiles(\"./aclImdb/train/pos\") \n",
    "rdd_neg = sc.wholeTextFiles(\"./aclImdb/train/neg\")\n",
    "df_pos = rdd_pos.toDF()\n",
    "df_neg = rdd_neg.toDF()\n",
    "df_pos = df_pos.toDF('Path', 'Review')\n",
    "df_neg = df_neg.toDF('Path', 'Review')"
   ]
  },
  {
   "cell_type": "code",
   "execution_count": 4,
   "metadata": {},
   "outputs": [],
   "source": [
    "df_pos_ = df_pos.select(fn.regexp_extract('Path', r'(pos/\\d+_\\d)', 1).\\\n",
    "            alias('id'), 'review')\n",
    "df_neg_ = df_neg.select(fn.regexp_extract('Path', r'(neg/\\d+_\\d)', 1).\\\n",
    "            alias('id'), 'review')"
   ]
  },
  {
   "cell_type": "code",
   "execution_count": 6,
   "metadata": {},
   "outputs": [
    {
     "name": "stdout",
     "output_type": "stream",
     "text": [
      "+-----------+--------------------+\n",
      "|         id|              review|\n",
      "+-----------+--------------------+\n",
      "| pos/5525_8|A lot of the prob...|\n",
      "| pos/2923_1|Eddie Murphy real...|\n",
      "|pos/10450_1|It was by acciden...|\n",
      "|pos/10836_1|I thought this mo...|\n",
      "| pos/8180_8|this is an entert...|\n",
      "| pos/7121_1|I hadn't seen thi...|\n",
      "| pos/8570_7|I noticed at once...|\n",
      "| pos/8029_1|I am curious of w...|\n",
      "| pos/5213_8|This is the first...|\n",
      "| pos/8413_8|A stupid young ma...|\n",
      "+-----------+--------------------+\n",
      "only showing top 10 rows\n",
      "\n"
     ]
    }
   ],
   "source": [
    "df_pos_.show(10)"
   ]
  },
  {
   "cell_type": "code",
   "execution_count": null,
   "metadata": {},
   "outputs": [],
   "source": []
  }
 ],
 "metadata": {
  "kernelspec": {
   "display_name": "Python 3",
   "language": "python",
   "name": "python3"
  },
  "language_info": {
   "codemirror_mode": {
    "name": "ipython",
    "version": 3
   },
   "file_extension": ".py",
   "mimetype": "text/x-python",
   "name": "python",
   "nbconvert_exporter": "python",
   "pygments_lexer": "ipython3",
   "version": "3.7.1"
  }
 },
 "nbformat": 4,
 "nbformat_minor": 2
}
